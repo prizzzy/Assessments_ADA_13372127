{
  "nbformat": 4,
  "nbformat_minor": 0,
  "metadata": {
    "colab": {
      "name": "A1.ipynb",
      "version": "0.3.2",
      "provenance": [],
      "include_colab_link": true
    },
    "kernelspec": {
      "name": "python3",
      "display_name": "Python 3"
    }
  },
  "cells": [
    {
      "cell_type": "markdown",
      "metadata": {
        "id": "view-in-github",
        "colab_type": "text"
      },
      "source": [
        "<a href=\"https://colab.research.google.com/github/prizzzy/Assessments_ADA_13372127/blob/master/A1.ipynb\" target=\"_parent\"><img src=\"https://colab.research.google.com/assets/colab-badge.svg\" alt=\"Open In Colab\"/></a>"
      ]
    },
    {
      "cell_type": "code",
      "metadata": {
        "id": "__M0D2kWEzti",
        "colab_type": "code",
        "colab": {}
      },
      "source": [
        ""
      ],
      "execution_count": 0,
      "outputs": []
    },
    {
      "cell_type": "markdown",
      "metadata": {
        "id": "CjAHsCkp3V4T",
        "colab_type": "text"
      },
      "source": [
        "**Introduction**\n",
        "\n",
        "\n",
        "The following is a literature critique of the research presented by Belhumeur, Hespanha and Kriegman and their approaches toward developing a complex facial recognition algorithm whose outcomes are irrespective of both varying light directions and facial expressions.\n",
        "By focusing on two methods [Eigenfaces and Fisherfaces] the authors aim to explain and justify why both methods are effective and yet still, imperfect given the biologically induced challenges that our bodies present that in turn, do not so easily comply with computational methods made for executing these underlying scientific truths.\n",
        "In essence, this report looks to critique the authors’ approaches towards solving the digital challenge facial recognition. \n",
        "\n",
        "\n",
        "**Content**\n",
        "\n",
        "\n",
        "The paper in review discusses the challenges faced by three researchers in trying to develop a new and sophisticated facial recognition algorithm that is unperturbed by varying lighting conditions.\n",
        "The two methods being compared are Eigenfaces and Fisherfaces. As it pertains to facial recognition, both methods are reliant on the image of a face being treated as a ‘3D linear subspace’ (Belhumeur et. Al, 1997)\n",
        "Innovation\n",
        "The paper was written in 1997 and it offers a comparison of methods- Eigenfaces and Fisherfaces- through which facial recognition systems may be improved. At the time, facial recognition algorithms were challenged when their systems were put in environments where they had to observe subjects under different variations of light.\n",
        "\n",
        "**Technical Quality**\n",
        "\n",
        "The technical quality of this paper is of a very sophisticated level. \n",
        "The writers are able to articulate their methods and findings in the most appropriate language through which the subject matter findings can be described accurately.\n",
        "The paper compares two methods of developing a complex facial recognition algorithm whose outcomes are irrespective of the possible variations of light.\n",
        "\n",
        "\n",
        "**Application & X-factor**\n",
        "\n",
        "\n",
        "It is interesting to note that the idea of developing a test set and training set pre-dates the last 15-20 years of work within the field of data science. Although technology has vastly changed and improved between now and 1997, our methods of analysing, treating and manipulating data are not dissimilar. As a matter of fact, it proves that often great minds are limited to the technology of their time. \n",
        "This would spark interesting conversations in the classrooms as it opens up the discussion to the cohort that we aren’t really doing anything new, but rather only discovering new things through old methods.\n",
        "Further, it is also interesting to note that we have found a way to uniquely quantify one of our main & distinguishable biological members (our face). In doing so, it may not be a stretch to consider possible future implications of this, where we could synthetically regenerate actual human faces identical to the original(s) whereby we could explore the fields of AI or create some sort of extremely accurate physical cloning device.\n",
        "\n",
        "\n",
        "**Presentation**\n",
        "\n",
        "\n",
        "Overall the paper was well constructed. The authors implemented good use of subheadings which was essential in helping us distinguish different subject matter and understanding their importance in the overarching issue of developing effective facial recognition systems. \n",
        "Along with that, the use of various visual media made it easier to comprehend the information that they were presenting. This included the use of charts, graphs, tables, formulas and images.\n",
        "Although this was an intellectual piece of literature, the content was delivered in a manner that a large number of industry participants could partake in reading whilst not understanding everything in its entirety.\n",
        "The most challenging aspect of this literary piece was the language. In order to best comprehend this piece, one must have a high level of exposure and familiarity with classical physics and mathematics. This does mean that the piece is best suited for intellectuals with a degree of interest in this field. This piece is most definitely not ideal content for consumption of the general public.\n",
        "\n",
        "\n",
        "**References**\n",
        "\n",
        "\n"
      ]
    }
  ]
}