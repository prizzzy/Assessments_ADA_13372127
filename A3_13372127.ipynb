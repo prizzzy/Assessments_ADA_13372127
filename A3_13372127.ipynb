{
  "nbformat": 4,
  "nbformat_minor": 0,
  "metadata": {
    "colab": {
      "name": "A3_13372127.ipynb",
      "provenance": [],
      "collapsed_sections": [],
      "include_colab_link": true
    },
    "kernelspec": {
      "name": "python3",
      "display_name": "Python 3"
    }
  },
  "cells": [
    {
      "cell_type": "markdown",
      "metadata": {
        "id": "view-in-github",
        "colab_type": "text"
      },
      "source": [
        "<a href=\"https://colab.research.google.com/github/prizzzy/Assessments_ADA_13372127/blob/master/A3_13372127.ipynb\" target=\"_parent\"><img src=\"https://colab.research.google.com/assets/colab-badge.svg\" alt=\"Open In Colab\"/></a>"
      ]
    },
    {
      "cell_type": "code",
      "metadata": {
        "id": "YCkWcyl3oTIv",
        "colab_type": "code",
        "colab": {}
      },
      "source": [
        ""
      ],
      "execution_count": 0,
      "outputs": []
    },
    {
      "cell_type": "markdown",
      "metadata": {
        "id": "-VI0Xlupop7c",
        "colab_type": "text"
      },
      "source": [
        "# Assessment 3: Question 1\n",
        "_____________________________________________________________________\n",
        "\n",
        "\n",
        "Today, data is an abundant resource that continues to expand and move across the globe at an exponential rate. Enterprises small and large have realised the potential of data and in turn, continue to find ways to utilise this data in order to improve the outcomes of their work. \n",
        "One of the main contributions to the mass data revolution comes from social media. \n",
        "Over the years consumers have shown heavy interactions with social media. Such, that it can now be considered a part of most people's lives. As an example of how much data we consume, Clement (2019) reports on Statista that in a 2019 minute, there are approximately six-hundred and ninety-four thousand, four-hundred and forty-four (694 444) hours of content being consumed on Netflix. \n",
        "\n",
        "## **3 challenges to solving this problem**\n",
        "**1. Interpreting the messages**\n",
        "\n",
        "The first point of order would be to deploy an algorithm that would read and interpret the different messages sent from a user's device. The challenge would be creating parameters upon which we can measure the user's messages and ascertain unique combinations of strings and characters which can then be used to summarise the user and his/her conversation topics (keywords + character combinations).\n",
        "\n",
        "**2. Consolidating messages from all social media platforms for one user**\n",
        "\n",
        "One of the main challenges that can stem from this task is being able to consolidate all messages from various messaging streams. The relationship between a user and the amount of social media streams that they have can be one to many. The difficult task here will be gathering all messages from the multiple streams yet treating all of the messages like one big pool of data from which the user can be classified.\n",
        "\n",
        "\n",
        "**3. Changing the vote**\n",
        "\n",
        "Finding a way to not just classify the user, but rather, deciding how we'll capitalise on the data findings to manipulate his/her vote to change in favour of another party or campaign. The challenge here is not only to find the methods through which we may attempt to sway the user's vote but also, to detrmine what alternative vote would have the best chance at landing with the user.\n",
        "\n",
        "\n",
        "## **Ethical & Social Consequences**\n",
        "With data movement being as prevalent as it is today, it is of no surprise that organisations and other entities have made vast efforts to gather as much user data as possible. Often times this has led to lines being blurred and, in some cases, even the involvement of government bodies. \n",
        "\n",
        "In the case if influence operations, more specifically, trying to sway political opinions, there are many a challenge to overcome. \n",
        "\n",
        "One of the challenges include the legal implications of swaying political opinions by way of accessing private consumer data. When trying to access consumer data, organisations must comply with the laws administered by the governing bodies of a country or state. Should they choose not to comply, companies will be subject to indictments issued by the governing bodies of the country and further, potentially be held liable for any damages that have followed suit.\n",
        "\n",
        "Another challenge is the ethical issue that companies may face when deploying these methods. If a company chooses to deploy influence operations, regardless of the legality of their actions, they must also consider whether or not these actions are morally justified. Any other actions can be seen as dishonest by the consumer, thereby potentially leading to a decrease in sales and/or reputation.\n",
        "\n",
        "Examples of these (sometimes) unethical approaches include how some data gathering methods occur perhaps even without the knowledge of the user. Popular methods such as the use of trigger words or even location services (to name a few) involve a level of user engagement or the use of prompts all of which are allowed often times due to the rights that the user surrenders when signing off on the Terms & conditions of the application in-use.\n",
        "\n",
        "## **Solution**\n",
        "\n",
        "My solution for the company would be a classification model. By using the myriad of python modules available in the python library, this model would observe sentence structures in hopes to distinguish unique subjects within sentences denoted from strings and unique character combinations. \n",
        "All in all, my solution would rely on these items to create a model that may help when trying to convert the vote of a user. The items are:\n",
        "\n",
        "- Most used greeting (first word)\n",
        "- Location (from which messages were sent)\n",
        "- 3 most used emojis\n",
        "- Most recurring party (name)\n",
        "\n",
        "From this data, we would classify different users under different mood groups such as happy, sad etc.  These users under different moods also have their most frequently mentioned party in their messages. The model would then compile the data from the other users and summarise the amount of votes that a party got from each unique mood group. The amoount of votes that a group gives to a party determines that group's rank for that party vote.\n",
        "\n",
        "The content that the user will be shown will be the party with the highest amount of votes/tallies from that same user's mood group. \n",
        "\n",
        "For instance if a user was classified as 'happy' and 'happy' people had the most votes for Trump, then that is the content that would be targeted towards that user if Trump was not already the most recurring name in his/her messages. If the most recurring name found in the user's inbox already matches what was voted highest amongst the user's mood group, then the user will be shown the party where his/her mood group finished second (third, fourth etc) among the votings/tallies.\n",
        "According to ur Rehman (2019), this is a similar tactic to that of Cambridge Analytica when they allegedly attempted to sway votes in favour of Trump in the 2016 US presidential elections.\n",
        "\n",
        "**References:**\n",
        "\n",
        "Clement, J. 2019, *Media usage in an internet minute as of March 2019*,  Social Media & User-Generated Content, viewed 5th October \n",
        "2019, \n",
        "< https://www.statista.com/statistics/195140/new-user-generated-content-uploaded-by-users-per-minute/ >\n",
        "\n",
        "\n",
        "Wilson, R. 2019, 'Cambridge Analytica, Facebook, and Influence Operations: A Case Study and Anticipatory Ethical Analysis', *European Conference on Cyber Warfare and Security*, pp. 587-595, \n",
        "< https://search-proquest-com.ezproxy.lib.uts.edu.au/science/docview/2261006731/CA931165CA814494PQ/6?accountid=17095 >\n",
        "\n",
        "\n",
        "ur Rehman, I. 2019, 'Facebook-Cambridge Analytica data harvesting: What you need to know', *Library Philosophy and Practice*, pp. 1-11,  < https://search-proquest-com.ezproxy.lib.uts.edu.au/science/docview/2234441812/abstract/76EE4BD4165E444EPQ/1?accountid=17095 >\n"
      ]
    }
  ]
}